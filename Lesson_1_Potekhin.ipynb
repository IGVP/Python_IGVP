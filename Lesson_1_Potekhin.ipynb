{
  "nbformat": 4,
  "nbformat_minor": 0,
  "metadata": {
    "colab": {
      "provenance": [],
      "authorship_tag": "ABX9TyN9RNa06PxVTNaASH8zG0Md",
      "include_colab_link": true
    },
    "kernelspec": {
      "name": "python3",
      "display_name": "Python 3"
    },
    "language_info": {
      "name": "python"
    }
  },
  "cells": [
    {
      "cell_type": "markdown",
      "metadata": {
        "id": "view-in-github",
        "colab_type": "text"
      },
      "source": [
        "<a href=\"https://colab.research.google.com/github/IGVP/Python_IGVP/blob/main/Lesson_1_Potekhin.ipynb\" target=\"_parent\"><img src=\"https://colab.research.google.com/assets/colab-badge.svg\" alt=\"Open In Colab\"/></a>"
      ]
    },
    {
      "cell_type": "code",
      "execution_count": 18,
      "metadata": {
        "colab": {
          "base_uri": "https://localhost:8080/"
        },
        "id": "824H51S2r6TU",
        "outputId": "e1116592-d27a-4994-b62a-e859d9d4646c"
      },
      "outputs": [
        {
          "output_type": "stream",
          "name": "stdout",
          "text": [
            "I\n",
            "g\n",
            "o\n",
            "r\n",
            " \n",
            "P\n",
            "o\n",
            "t\n",
            "e\n",
            "k\n",
            "h\n",
            "i\n",
            "n\n"
          ]
        }
      ],
      "source": [
        "# задаем имя принудительно\n",
        "my_name = 'Igor Potekhin'\n",
        "# выводим строку на печать\n",
        "for i in my_name:\n",
        "  print(i)"
      ]
    },
    {
      "cell_type": "code",
      "source": [],
      "metadata": {
        "id": "ITihf2uJuSZW"
      },
      "execution_count": null,
      "outputs": []
    },
    {
      "cell_type": "code",
      "source": [
        "# задем функцию первода доллар -> евро, курс 1.17\n",
        "def euro(dollar):\n",
        "  return f'Суума в евро = {dollar / 1.17 :.2f}'\n",
        "# вызываем функцию, задаем аргумент\n",
        "res =euro(dollar = float(input('Введите сумму в долларах: ')))\n",
        "print(res)"
      ],
      "metadata": {
        "colab": {
          "base_uri": "https://localhost:8080/"
        },
        "id": "YaF5tQQfvL0c",
        "outputId": "515d48c3-38c4-4c54-e2c1-4ab71ad65d4d"
      },
      "execution_count": 26,
      "outputs": [
        {
          "output_type": "stream",
          "name": "stdout",
          "text": [
            "Введите сумму в долларах: 1.17\n",
            "Суума в евро = 1.00\n"
          ]
        }
      ]
    }
  ]
}